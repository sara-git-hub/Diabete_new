{
 "cells": [
  {
   "cell_type": "markdown",
   "id": "a65a572e",
   "metadata": {},
   "source": [
    "### Preprocessing"
   ]
  },
  {
   "cell_type": "code",
   "execution_count": 1,
   "id": "8c9c898e",
   "metadata": {},
   "outputs": [],
   "source": [
    "import pandas as pd\n",
    "import numpy as np"
   ]
  },
  {
   "cell_type": "code",
   "execution_count": 2,
   "id": "573e7357",
   "metadata": {},
   "outputs": [],
   "source": [
    "def load_data(filepath):\n",
    "    df = pd.read_csv(filepath)\n",
    "    return df"
   ]
  },
  {
   "cell_type": "code",
   "execution_count": null,
   "id": "7e9df667",
   "metadata": {},
   "outputs": [],
   "source": [
    "def clean_data_1(df):\n",
    "    df = df.rename(columns={'Unnamed: 0': 'index_tab'})\n",
    "    masque = (\n",
    "        (df['Glucose'] >= 50) &\n",
    "        (df['BloodPressure'] >= 40) &\n",
    "        (df['BloodPressure'] <= 120) &\n",
    "        (df['SkinThickness'] >= 5) &\n",
    "        (df['SkinThickness'] <= 60)&\n",
    "        (df['Insulin'] >= 24)&\n",
    "        (df['Insulin'] <= 500)&\n",
    "        (df['BMI'] >= 16)&\n",
    "        (df['BMI'] <= 50)&\n",
    "        (df['DiabetesPedigreeFunction'] <= 2)\n",
    "    )\n",
    "    df_clean = df[masque].copy()\n",
    "    return df_clean"
   ]
  },
  {
   "cell_type": "code",
   "execution_count": null,
   "id": "dec58e5d",
   "metadata": {},
   "outputs": [],
   "source": [
    "def clean_data_2(df):\n",
    "    df = df.rename(columns={'Unnamed: 0': 'index_tab'})\n",
    "    masque = (\n",
    "        (df['Glucose'] >= 50) &\n",
    "        (df['BloodPressure'] >= 40) &\n",
    "        (df['BloodPressure'] <= 120) &\n",
    "        (df['SkinThickness'] <= 60)&\n",
    "        (df['BMI'] >= 16)&\n",
    "        (df['BMI'] <= 50)&\n",
    "        (df['DiabetesPedigreeFunction'] <= 2)\n",
    "    )\n",
    "    df_clean = df[masque].copy()\n",
    "    df_clean['Insuline_bool'] = np.where(df_clean['Insulin'] == 0, 0, 1)\n",
    "    df_clean['SkinThickness_bool'] = np.where(df_clean['SkinThickness'] == 0, 0, 1)\n",
    "    return df_clean"
   ]
  }
 ],
 "metadata": {
  "kernelspec": {
   "display_name": "Python 3",
   "language": "python",
   "name": "python3"
  },
  "language_info": {
   "codemirror_mode": {
    "name": "ipython",
    "version": 3
   },
   "file_extension": ".py",
   "mimetype": "text/x-python",
   "name": "python",
   "nbconvert_exporter": "python",
   "pygments_lexer": "ipython3",
   "version": "3.13.5"
  }
 },
 "nbformat": 4,
 "nbformat_minor": 5
}
